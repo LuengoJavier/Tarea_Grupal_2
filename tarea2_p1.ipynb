{
 "cells": [
  {
   "cell_type": "markdown",
   "id": "67487ce9",
   "metadata": {},
   "source": [
    "#   Tarea 2 pregunta 1\n"
   ]
  },
  {
   "cell_type": "code",
   "execution_count": null,
   "id": "4c56c29e",
   "metadata": {
    "vscode": {
     "languageId": "plaintext"
    }
   },
   "outputs": [],
   "source": []
  }
 ],
 "metadata": {
  "language_info": {
   "name": "python"
  }
 },
 "nbformat": 4,
 "nbformat_minor": 5
}
