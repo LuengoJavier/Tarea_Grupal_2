{
 "cells": [
  {
   "cell_type": "markdown",
   "id": "67487ce9",
   "metadata": {},
   "source": [
    "#   Tarea 2 pregunta 1\n"
   ]
  },
  {
   "cell_type": "markdown",
   "id": "cfd16c7d",
   "metadata": {},
   "source": [
    "##  Importación bibliotecas"
   ]
  },
  {
   "cell_type": "code",
   "execution_count": null,
   "id": "4e8dc419",
   "metadata": {},
   "outputs": [],
   "source": [
    "import os\n",
    "from tensorflow.keras.preprocessing import image\n",
    "import numpy as np"
   ]
  },
  {
   "cell_type": "markdown",
   "id": "2e0e14ec",
   "metadata": {},
   "source": [
    "##  Extracción imágenes"
   ]
  },
  {
   "cell_type": "code",
   "execution_count": null,
   "id": "4c56c29e",
   "metadata": {},
   "outputs": [],
   "source": [
    "def extraer_imagenes(directorio):\n",
    "    \"\"\"\n",
    "    En esta parte solamente se importaran las imagenes, en la parte de mas abajo se normalizaran,\n",
    "    con el fin de normalizar los datos ya estando en blanco y negro\n",
    "    \"\"\"\n",
    "    imagenes_train=[]\n",
    "    imagenes_test=[]\n",
    "\n",
    "    for tipo_datos in ['train', 'test']:\n",
    "        ruta_tipo = os.path.join(directorio, tipo_datos)\n",
    "        for foto in os.listdir(ruta_tipo):\n",
    "            ruta_foto=os.path.join(ruta_tipo,foto)\n",
    "            try:\n",
    "                img = image.load_img(ruta_foto)\n",
    "                img_array = np.array(img)\n",
    "                if tipo_datos == 'train':\n",
    "                        imagenes_train.append(img_array)\n",
    "                else:\n",
    "                    imagenes_test.append(img_array)\n",
    "            except Exception as e:\n",
    "                print(f\"Error al cargar {ruta_foto}: {e}\")\n",
    "    # Convertir a arrays y normalizar\n",
    "    X_train = imagenes_train\n",
    "    X_test = imagenes_test\n",
    "    return X_train, X_test\n",
    "    "
   ]
  },
  {
   "cell_type": "markdown",
   "id": "d8a3c495",
   "metadata": {},
   "source": [
    "##  Convertidor de rgb a blanco y negro"
   ]
  },
  {
   "cell_type": "code",
   "execution_count": null,
   "id": "b7776969",
   "metadata": {},
   "outputs": [],
   "source": [
    "def rgb2gray(rgb):\n",
    "    \"\"\"Convert from color image (RGB) to grayscale.\n",
    "       Source: opencv.org\n",
    "       grayscale = 0.299*red + 0.587*green + 0.114*blue\n",
    "    Argument:\n",
    "        rgb (tensor): rgb image\n",
    "    Return:\n",
    "        (tensor): grayscale image\n",
    "    \"\"\"\n",
    "    return np.dot(rgb[...,:3], [0.299, 0.587, 0.114])"
   ]
  }
 ],
 "metadata": {
  "kernelspec": {
   "display_name": "IMA543_2025_1",
   "language": "python",
   "name": "python3"
  },
  "language_info": {
   "name": "python",
   "version": "3.10.0"
  }
 },
 "nbformat": 4,
 "nbformat_minor": 5
}
